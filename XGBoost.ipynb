{
  "nbformat": 4,
  "nbformat_minor": 0,
  "metadata": {
    "colab": {
      "provenance": []
    },
    "kernelspec": {
      "name": "python3",
      "display_name": "Python 3"
    },
    "language_info": {
      "name": "python"
    }
  },
  "cells": [
    {
      "cell_type": "code",
      "source": [
        "from google.colab import drive\n",
        "drive.mount('/content/drive')"
      ],
      "metadata": {
        "id": "8aomnR7RB9J1"
      },
      "execution_count": null,
      "outputs": []
    },
    {
      "cell_type": "code",
      "source": [
        "import pandas as pd"
      ],
      "metadata": {
        "id": "yE9HNk4FCHR1"
      },
      "execution_count": 2,
      "outputs": []
    },
    {
      "cell_type": "code",
      "source": [
        "train = pd.read_csv('/content/TRAIN_FINAL_FINAL.csv')\n",
        "test = pd.read_csv('/content/TEST_FINAL_FINAL.csv')"
      ],
      "metadata": {
        "id": "FAhmUDidByBp"
      },
      "execution_count": 3,
      "outputs": []
    },
    {
      "cell_type": "code",
      "execution_count": 4,
      "metadata": {
        "id": "PTrzJdsf_ZQj"
      },
      "outputs": [],
      "source": [
        "X_train_aug = train.drop(columns=[\n",
        "    'TIENDA_ID',\n",
        "    'PROMEDIO_VENTA_MENSUAL',\n",
        "    'PORCENTAJE_ÉXITO',\n",
        "    'DATASET',\n",
        "    'TOTAL_MESES'\n",
        "])\n",
        "\n",
        "y_train = train[['PROMEDIO_VENTA_MENSUAL', 'PORCENTAJE_ÉXITO']]"
      ]
    },
    {
      "cell_type": "code",
      "source": [
        "X_test_aug = test.drop(columns=[\n",
        "    'TIENDA_ID',\n",
        "    'PROMEDIO_VENTA_MENSUAL',\n",
        "    'PORCENTAJE_ÉXITO',\n",
        "    'DATASET',\n",
        "    'TOTAL_MESES'\n",
        "])\n",
        "\n",
        "y_test = test[['PROMEDIO_VENTA_MENSUAL', 'PORCENTAJE_ÉXITO']]"
      ],
      "metadata": {
        "id": "YAFif1B1DXUu"
      },
      "execution_count": 5,
      "outputs": []
    },
    {
      "cell_type": "code",
      "source": [
        "X_train_aug['conjunto'] = 'train'\n",
        "X_test_aug['conjunto'] = 'test'\n",
        "\n",
        "X_all = pd.concat([X_train_aug, X_test_aug])\n",
        "X_all_encoded = pd.get_dummies(X_all, drop_first=True)\n",
        "\n",
        "X_train_encoded = X_all_encoded[X_all_encoded['conjunto_train'] == 1].drop(columns='conjunto_train')\n",
        "X_test_encoded = X_all_encoded[X_all_encoded['conjunto_train'] == 0].drop(columns='conjunto_train')\n"
      ],
      "metadata": {
        "id": "hEMv0WDcKWSx"
      },
      "execution_count": 6,
      "outputs": []
    },
    {
      "cell_type": "code",
      "source": [
        "from xgboost import XGBRegressor\n",
        "from sklearn.model_selection import GridSearchCV\n",
        "from sklearn.metrics import r2_score\n",
        "\n",
        "param_grid = {\n",
        "    'n_estimators': [50, 100],\n",
        "    'max_depth': [3, 5, 7],\n",
        "    'learning_rate': [0.01, 0.1, 0.2],\n",
        "    'subsample': [0.7, 1.0]\n",
        "}\n",
        "\n",
        "xgb_model = XGBRegressor(objective='reg:squarederror', random_state=42)\n",
        "\n",
        "grid_search = GridSearchCV(\n",
        "    estimator=xgb_model,\n",
        "    param_grid=param_grid,\n",
        "    cv=3,\n",
        "    scoring='r2',\n",
        "    verbose=1,\n",
        "    n_jobs=-1\n",
        ")\n",
        "\n",
        "grid_search.fit(X_train_encoded, y_train['PROMEDIO_VENTA_MENSUAL'])\n",
        "\n",
        "best_model = grid_search.best_estimator_\n",
        "\n",
        "pred_ventas_test = best_model.predict(X_test_encoded)\n",
        "\n",
        "r2 = r2_score(y_test['PROMEDIO_VENTA_MENSUAL'], pred_ventas_test)\n",
        "print(\"Mejores parámetros:\", grid_search.best_params_)\n",
        "print(\"R² en test:\", r2)\n"
      ],
      "metadata": {
        "colab": {
          "base_uri": "https://localhost:8080/"
        },
        "id": "VVk093KNJfsw",
        "outputId": "7eb6a7e0-4667-48b6-c233-0074d217d834"
      },
      "execution_count": 7,
      "outputs": [
        {
          "output_type": "stream",
          "name": "stdout",
          "text": [
            "Fitting 3 folds for each of 36 candidates, totalling 108 fits\n",
            "Mejores parámetros: {'learning_rate': 0.1, 'max_depth': 3, 'n_estimators': 50, 'subsample': 1.0}\n",
            "R² en test: 0.6028239343452453\n"
          ]
        }
      ]
    },
    {
      "cell_type": "code",
      "source": [
        "X_test_encoded['PRED_VENTAS'] = pred_ventas_test\n",
        "\n",
        "X_train_encoded['PRED_VENTAS'] = y_train['PROMEDIO_VENTA_MENSUAL']\n"
      ],
      "metadata": {
        "id": "vP19gI8BEIE_"
      },
      "execution_count": 8,
      "outputs": []
    },
    {
      "cell_type": "code",
      "source": [
        "from sklearn.model_selection import GridSearchCV\n",
        "from xgboost import XGBRegressor\n",
        "from sklearn.metrics import r2_score\n",
        "\n",
        "param_grid = {\n",
        "    'n_estimators': [50, 100],\n",
        "    'max_depth': [3, 5, 7],\n",
        "    'learning_rate': [0.01, 0.1, 0.2],\n",
        "    'subsample': [0.7, 1.0]\n",
        "}\n",
        "\n",
        "xgb_model_2 = XGBRegressor(objective='reg:squarederror', random_state=42)\n",
        "\n",
        "grid_search_2 = GridSearchCV(\n",
        "    estimator=xgb_model_2,\n",
        "    param_grid=param_grid,\n",
        "    cv=3,\n",
        "    scoring='r2',\n",
        "    verbose=1,\n",
        "    n_jobs=-1\n",
        ")\n",
        "\n",
        "grid_search_2.fit(X_train_encoded, y_train['PORCENTAJE_ÉXITO'])\n",
        "\n",
        "best_model_2 = grid_search_2.best_estimator_\n",
        "pred_exito_test = best_model_2.predict(X_test_encoded)\n",
        "\n",
        "r2_exito = r2_score(y_test['PORCENTAJE_ÉXITO'], pred_exito_test)\n",
        "print(\"Mejores parámetros (éxito):\", grid_search_2.best_params_)\n",
        "print(\"R² en test (éxito):\", r2_exito)\n"
      ],
      "metadata": {
        "colab": {
          "base_uri": "https://localhost:8080/"
        },
        "id": "0Eg4-xiAFk5v",
        "outputId": "0bb3c683-cb49-4792-b8f9-4ae1564dc347"
      },
      "execution_count": 9,
      "outputs": [
        {
          "output_type": "stream",
          "name": "stdout",
          "text": [
            "Fitting 3 folds for each of 36 candidates, totalling 108 fits\n",
            "Mejores parámetros (éxito): {'learning_rate': 0.1, 'max_depth': 3, 'n_estimators': 50, 'subsample': 1.0}\n",
            "R² en test (éxito): 0.9379956123482692\n"
          ]
        }
      ]
    }
  ]
}